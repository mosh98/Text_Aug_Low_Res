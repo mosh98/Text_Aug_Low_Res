{
  "cells": [
    {
      "cell_type": "markdown",
      "metadata": {
        "id": "2CtH75gfazCq"
      },
      "source": []
    },
    {
      "cell_type": "code",
      "source": [
        "!nvidia-smi\n"
      ],
      "metadata": {
        "colab": {
          "base_uri": "https://localhost:8080/"
        },
        "id": "0UmMWuow5eCj",
        "outputId": "81da9667-93f3-49ae-cb8f-84c4c30f39f9"
      },
      "execution_count": null,
      "outputs": [
        {
          "output_type": "stream",
          "name": "stdout",
          "text": [
            "Wed May 18 09:15:17 2022       \n",
            "+-----------------------------------------------------------------------------+\n",
            "| NVIDIA-SMI 460.32.03    Driver Version: 460.32.03    CUDA Version: 11.2     |\n",
            "|-------------------------------+----------------------+----------------------+\n",
            "| GPU  Name        Persistence-M| Bus-Id        Disp.A | Volatile Uncorr. ECC |\n",
            "| Fan  Temp  Perf  Pwr:Usage/Cap|         Memory-Usage | GPU-Util  Compute M. |\n",
            "|                               |                      |               MIG M. |\n",
            "|===============================+======================+======================|\n",
            "|   0  Tesla V100-SXM2...  Off  | 00000000:00:04.0 Off |                    0 |\n",
            "| N/A   34C    P0    24W / 300W |      0MiB / 16160MiB |      0%      Default |\n",
            "|                               |                      |                  N/A |\n",
            "+-------------------------------+----------------------+----------------------+\n",
            "                                                                               \n",
            "+-----------------------------------------------------------------------------+\n",
            "| Processes:                                                                  |\n",
            "|  GPU   GI   CI        PID   Type   Process name                  GPU Memory |\n",
            "|        ID   ID                                                   Usage      |\n",
            "|=============================================================================|\n",
            "|  No running processes found                                                 |\n",
            "+-----------------------------------------------------------------------------+\n"
          ]
        }
      ]
    },
    {
      "cell_type": "code",
      "source": [
        "!wget https://svn.spraakdata.gu.se/sb-arkiv/pub/dalaj/datasetDaLAJsplit.csv\n"
      ],
      "metadata": {
        "colab": {
          "base_uri": "https://localhost:8080/"
        },
        "id": "nY9XGIWhTDlI",
        "outputId": "6203fb0b-6dd0-4a6f-b304-d94e24e5e164"
      },
      "execution_count": null,
      "outputs": [
        {
          "output_type": "stream",
          "name": "stdout",
          "text": [
            "--2022-05-18 09:15:17--  https://svn.spraakdata.gu.se/sb-arkiv/pub/dalaj/datasetDaLAJsplit.csv\n",
            "Resolving svn.spraakdata.gu.se (svn.spraakdata.gu.se)... 130.241.135.158\n",
            "Connecting to svn.spraakdata.gu.se (svn.spraakdata.gu.se)|130.241.135.158|:443... connected.\n",
            "HTTP request sent, awaiting response... 200 OK\n",
            "Length: 1534736 (1.5M) [text/csv]\n",
            "Saving to: ‘datasetDaLAJsplit.csv’\n",
            "\n",
            "datasetDaLAJsplit.c 100%[===================>]   1.46M  8.41MB/s    in 0.2s    \n",
            "\n",
            "2022-05-18 09:15:18 (8.41 MB/s) - ‘datasetDaLAJsplit.csv’ saved [1534736/1534736]\n",
            "\n"
          ]
        }
      ]
    },
    {
      "cell_type": "code",
      "execution_count": null,
      "metadata": {
        "id": "cpMVuMXZUeGX"
      },
      "outputs": [],
      "source": [
        "import pandas as pd\n",
        "from sklearn.metrics import classification_report\n",
        "from sklearn.linear_model import LogisticRegression\n",
        "from sklearn import metrics\n",
        "\n"
      ]
    },
    {
      "cell_type": "code",
      "source": [
        "dalaj_df = pd.read_csv(\"/content/datasetDaLAJsplit.csv\")"
      ],
      "metadata": {
        "id": "VRyFdCgvT5bv"
      },
      "execution_count": null,
      "outputs": []
    },
    {
      "cell_type": "code",
      "source": [
        "#@title Fix arrangement Train\n",
        "\n",
        "train_df = dalaj_df[dalaj_df['split'] == \"train\" ]\n",
        "\n",
        "sorted_items = []\n",
        "for idx, item in train_df.iterrows():\n",
        "  correct_dict = {\"Text\": item[\"corrected sentence\"],\"Label\":1}\n",
        "  sorted_items.append(correct_dict)\n",
        "\n",
        "  incorrect_dict = {\"Text\": item[\"original sentence\"],\"Label\":0}\n",
        "  sorted_items.append(incorrect_dict)\n",
        "\n",
        "final_train_df = pd.DataFrame(sorted_items)\n",
        "from sklearn.utils import shuffle\n",
        "final_train_df = shuffle(final_train_df)"
      ],
      "metadata": {
        "cellView": "form",
        "id": "Z9SI5HsXT-X9"
      },
      "execution_count": null,
      "outputs": []
    },
    {
      "cell_type": "code",
      "source": [
        "final_train_df"
      ],
      "metadata": {
        "colab": {
          "base_uri": "https://localhost:8080/",
          "height": 424
        },
        "id": "vEpFBLrPqMup",
        "outputId": "4c2af545-385f-4cff-e2a8-654df9c8e29b"
      },
      "execution_count": null,
      "outputs": [
        {
          "output_type": "execute_result",
          "data": {
            "text/plain": [
              "                                                   Text  Label\n",
              "759   Trots alla argument om finlandssvenskan och fi...      0\n",
              "2367  Jag tycker om den plasten efter jag blir lyckl...      0\n",
              "2532  Så hon kommer att bli jätteglad att vi hälsar ...      1\n",
              "2022        Alla har egna åsikter och behöver avstånd .      1\n",
              "5177  En del anser att världens länder blir kolonier...      0\n",
              "...                                                 ...    ...\n",
              "241   Enligt historian så var Finland en del av Sver...      0\n",
              "678                  Jag lagar mat åt min man i köket .      1\n",
              "6759               Det var där för jag skaffade henne .      0\n",
              "5005  Vad kan vara viktigare av biblioteket här i om...      0\n",
              "1518  I anslaget till filmen ser vi ett gäng som job...      1\n",
              "\n",
              "[7682 rows x 2 columns]"
            ],
            "text/html": [
              "\n",
              "  <div id=\"df-620fc196-0265-4ed9-813b-66cdd17e4a37\">\n",
              "    <div class=\"colab-df-container\">\n",
              "      <div>\n",
              "<style scoped>\n",
              "    .dataframe tbody tr th:only-of-type {\n",
              "        vertical-align: middle;\n",
              "    }\n",
              "\n",
              "    .dataframe tbody tr th {\n",
              "        vertical-align: top;\n",
              "    }\n",
              "\n",
              "    .dataframe thead th {\n",
              "        text-align: right;\n",
              "    }\n",
              "</style>\n",
              "<table border=\"1\" class=\"dataframe\">\n",
              "  <thead>\n",
              "    <tr style=\"text-align: right;\">\n",
              "      <th></th>\n",
              "      <th>Text</th>\n",
              "      <th>Label</th>\n",
              "    </tr>\n",
              "  </thead>\n",
              "  <tbody>\n",
              "    <tr>\n",
              "      <th>759</th>\n",
              "      <td>Trots alla argument om finlandssvenskan och fi...</td>\n",
              "      <td>0</td>\n",
              "    </tr>\n",
              "    <tr>\n",
              "      <th>2367</th>\n",
              "      <td>Jag tycker om den plasten efter jag blir lyckl...</td>\n",
              "      <td>0</td>\n",
              "    </tr>\n",
              "    <tr>\n",
              "      <th>2532</th>\n",
              "      <td>Så hon kommer att bli jätteglad att vi hälsar ...</td>\n",
              "      <td>1</td>\n",
              "    </tr>\n",
              "    <tr>\n",
              "      <th>2022</th>\n",
              "      <td>Alla har egna åsikter och behöver avstånd .</td>\n",
              "      <td>1</td>\n",
              "    </tr>\n",
              "    <tr>\n",
              "      <th>5177</th>\n",
              "      <td>En del anser att världens länder blir kolonier...</td>\n",
              "      <td>0</td>\n",
              "    </tr>\n",
              "    <tr>\n",
              "      <th>...</th>\n",
              "      <td>...</td>\n",
              "      <td>...</td>\n",
              "    </tr>\n",
              "    <tr>\n",
              "      <th>241</th>\n",
              "      <td>Enligt historian så var Finland en del av Sver...</td>\n",
              "      <td>0</td>\n",
              "    </tr>\n",
              "    <tr>\n",
              "      <th>678</th>\n",
              "      <td>Jag lagar mat åt min man i köket .</td>\n",
              "      <td>1</td>\n",
              "    </tr>\n",
              "    <tr>\n",
              "      <th>6759</th>\n",
              "      <td>Det var där för jag skaffade henne .</td>\n",
              "      <td>0</td>\n",
              "    </tr>\n",
              "    <tr>\n",
              "      <th>5005</th>\n",
              "      <td>Vad kan vara viktigare av biblioteket här i om...</td>\n",
              "      <td>0</td>\n",
              "    </tr>\n",
              "    <tr>\n",
              "      <th>1518</th>\n",
              "      <td>I anslaget till filmen ser vi ett gäng som job...</td>\n",
              "      <td>1</td>\n",
              "    </tr>\n",
              "  </tbody>\n",
              "</table>\n",
              "<p>7682 rows × 2 columns</p>\n",
              "</div>\n",
              "      <button class=\"colab-df-convert\" onclick=\"convertToInteractive('df-620fc196-0265-4ed9-813b-66cdd17e4a37')\"\n",
              "              title=\"Convert this dataframe to an interactive table.\"\n",
              "              style=\"display:none;\">\n",
              "        \n",
              "  <svg xmlns=\"http://www.w3.org/2000/svg\" height=\"24px\"viewBox=\"0 0 24 24\"\n",
              "       width=\"24px\">\n",
              "    <path d=\"M0 0h24v24H0V0z\" fill=\"none\"/>\n",
              "    <path d=\"M18.56 5.44l.94 2.06.94-2.06 2.06-.94-2.06-.94-.94-2.06-.94 2.06-2.06.94zm-11 1L8.5 8.5l.94-2.06 2.06-.94-2.06-.94L8.5 2.5l-.94 2.06-2.06.94zm10 10l.94 2.06.94-2.06 2.06-.94-2.06-.94-.94-2.06-.94 2.06-2.06.94z\"/><path d=\"M17.41 7.96l-1.37-1.37c-.4-.4-.92-.59-1.43-.59-.52 0-1.04.2-1.43.59L10.3 9.45l-7.72 7.72c-.78.78-.78 2.05 0 2.83L4 21.41c.39.39.9.59 1.41.59.51 0 1.02-.2 1.41-.59l7.78-7.78 2.81-2.81c.8-.78.8-2.07 0-2.86zM5.41 20L4 18.59l7.72-7.72 1.47 1.35L5.41 20z\"/>\n",
              "  </svg>\n",
              "      </button>\n",
              "      \n",
              "  <style>\n",
              "    .colab-df-container {\n",
              "      display:flex;\n",
              "      flex-wrap:wrap;\n",
              "      gap: 12px;\n",
              "    }\n",
              "\n",
              "    .colab-df-convert {\n",
              "      background-color: #E8F0FE;\n",
              "      border: none;\n",
              "      border-radius: 50%;\n",
              "      cursor: pointer;\n",
              "      display: none;\n",
              "      fill: #1967D2;\n",
              "      height: 32px;\n",
              "      padding: 0 0 0 0;\n",
              "      width: 32px;\n",
              "    }\n",
              "\n",
              "    .colab-df-convert:hover {\n",
              "      background-color: #E2EBFA;\n",
              "      box-shadow: 0px 1px 2px rgba(60, 64, 67, 0.3), 0px 1px 3px 1px rgba(60, 64, 67, 0.15);\n",
              "      fill: #174EA6;\n",
              "    }\n",
              "\n",
              "    [theme=dark] .colab-df-convert {\n",
              "      background-color: #3B4455;\n",
              "      fill: #D2E3FC;\n",
              "    }\n",
              "\n",
              "    [theme=dark] .colab-df-convert:hover {\n",
              "      background-color: #434B5C;\n",
              "      box-shadow: 0px 1px 3px 1px rgba(0, 0, 0, 0.15);\n",
              "      filter: drop-shadow(0px 1px 2px rgba(0, 0, 0, 0.3));\n",
              "      fill: #FFFFFF;\n",
              "    }\n",
              "  </style>\n",
              "\n",
              "      <script>\n",
              "        const buttonEl =\n",
              "          document.querySelector('#df-620fc196-0265-4ed9-813b-66cdd17e4a37 button.colab-df-convert');\n",
              "        buttonEl.style.display =\n",
              "          google.colab.kernel.accessAllowed ? 'block' : 'none';\n",
              "\n",
              "        async function convertToInteractive(key) {\n",
              "          const element = document.querySelector('#df-620fc196-0265-4ed9-813b-66cdd17e4a37');\n",
              "          const dataTable =\n",
              "            await google.colab.kernel.invokeFunction('convertToInteractive',\n",
              "                                                     [key], {});\n",
              "          if (!dataTable) return;\n",
              "\n",
              "          const docLinkHtml = 'Like what you see? Visit the ' +\n",
              "            '<a target=\"_blank\" href=https://colab.research.google.com/notebooks/data_table.ipynb>data table notebook</a>'\n",
              "            + ' to learn more about interactive tables.';\n",
              "          element.innerHTML = '';\n",
              "          dataTable['output_type'] = 'display_data';\n",
              "          await google.colab.output.renderOutput(dataTable, element);\n",
              "          const docLink = document.createElement('div');\n",
              "          docLink.innerHTML = docLinkHtml;\n",
              "          element.appendChild(docLink);\n",
              "        }\n",
              "      </script>\n",
              "    </div>\n",
              "  </div>\n",
              "  "
            ]
          },
          "metadata": {},
          "execution_count": 20
        }
      ]
    },
    {
      "cell_type": "code",
      "source": [
        "#@title Fix arrangement for test\n",
        "\n",
        "test_df = dalaj_df[dalaj_df['split'] == \"test\" ]\n",
        "\n",
        "sorted_items = []\n",
        "for idx, item in test_df.iterrows():\n",
        "  correct_dict = {\"Text\": item[\"corrected sentence\"],\"Label\":1}\n",
        "  sorted_items.append(correct_dict)\n",
        "\n",
        "  incorrect_dict = {\"Text\": item[\"original sentence\"],\"Label\":0}\n",
        "  sorted_items.append(incorrect_dict)\n",
        "\n",
        "final_test_df = pd.DataFrame(sorted_items)\n",
        "from sklearn.utils import shuffle\n",
        "final_test_df = shuffle(final_test_df)\n"
      ],
      "metadata": {
        "cellView": "form",
        "id": "AF6ANETnU-ZC"
      },
      "execution_count": null,
      "outputs": []
    },
    {
      "cell_type": "code",
      "source": [
        "final_test_df"
      ],
      "metadata": {
        "colab": {
          "base_uri": "https://localhost:8080/",
          "height": 424
        },
        "id": "zclE-BjWVCw3",
        "outputId": "639c8353-bbea-48f0-ff33-da76f2f37982"
      },
      "execution_count": null,
      "outputs": [
        {
          "output_type": "execute_result",
          "data": {
            "text/plain": [
              "                                                  Text  Label\n",
              "286  Jag hoppas kunna lära mig snabbt och börja sök...      1\n",
              "31   Från utseendet kan vi inte förstå om man är pr...      0\n",
              "502  Familjen måste alltid delta i allting i livet ...      1\n",
              "357  Den största fördelen med platsen är att jag ka...      0\n",
              "351  Vidare kan jag tar de här aktiviteterna som er...      0\n",
              "..                                                 ...    ...\n",
              "458  Då uppstår frågan om jag ska ta ett extra pass...      1\n",
              "127  Jag tror att författaren har skrivit den här b...      0\n",
              "364  Det är nödvändigt att ha en plats som kan påve...      1\n",
              "23      För mig är kläder viktigt men inte så mycket .      0\n",
              "517                En familj är del av en släktingar .      0\n",
              "\n",
              "[888 rows x 2 columns]"
            ],
            "text/html": [
              "\n",
              "  <div id=\"df-67d16c72-68bd-4bb5-985e-9eb239e833d6\">\n",
              "    <div class=\"colab-df-container\">\n",
              "      <div>\n",
              "<style scoped>\n",
              "    .dataframe tbody tr th:only-of-type {\n",
              "        vertical-align: middle;\n",
              "    }\n",
              "\n",
              "    .dataframe tbody tr th {\n",
              "        vertical-align: top;\n",
              "    }\n",
              "\n",
              "    .dataframe thead th {\n",
              "        text-align: right;\n",
              "    }\n",
              "</style>\n",
              "<table border=\"1\" class=\"dataframe\">\n",
              "  <thead>\n",
              "    <tr style=\"text-align: right;\">\n",
              "      <th></th>\n",
              "      <th>Text</th>\n",
              "      <th>Label</th>\n",
              "    </tr>\n",
              "  </thead>\n",
              "  <tbody>\n",
              "    <tr>\n",
              "      <th>286</th>\n",
              "      <td>Jag hoppas kunna lära mig snabbt och börja sök...</td>\n",
              "      <td>1</td>\n",
              "    </tr>\n",
              "    <tr>\n",
              "      <th>31</th>\n",
              "      <td>Från utseendet kan vi inte förstå om man är pr...</td>\n",
              "      <td>0</td>\n",
              "    </tr>\n",
              "    <tr>\n",
              "      <th>502</th>\n",
              "      <td>Familjen måste alltid delta i allting i livet ...</td>\n",
              "      <td>1</td>\n",
              "    </tr>\n",
              "    <tr>\n",
              "      <th>357</th>\n",
              "      <td>Den största fördelen med platsen är att jag ka...</td>\n",
              "      <td>0</td>\n",
              "    </tr>\n",
              "    <tr>\n",
              "      <th>351</th>\n",
              "      <td>Vidare kan jag tar de här aktiviteterna som er...</td>\n",
              "      <td>0</td>\n",
              "    </tr>\n",
              "    <tr>\n",
              "      <th>...</th>\n",
              "      <td>...</td>\n",
              "      <td>...</td>\n",
              "    </tr>\n",
              "    <tr>\n",
              "      <th>458</th>\n",
              "      <td>Då uppstår frågan om jag ska ta ett extra pass...</td>\n",
              "      <td>1</td>\n",
              "    </tr>\n",
              "    <tr>\n",
              "      <th>127</th>\n",
              "      <td>Jag tror att författaren har skrivit den här b...</td>\n",
              "      <td>0</td>\n",
              "    </tr>\n",
              "    <tr>\n",
              "      <th>364</th>\n",
              "      <td>Det är nödvändigt att ha en plats som kan påve...</td>\n",
              "      <td>1</td>\n",
              "    </tr>\n",
              "    <tr>\n",
              "      <th>23</th>\n",
              "      <td>För mig är kläder viktigt men inte så mycket .</td>\n",
              "      <td>0</td>\n",
              "    </tr>\n",
              "    <tr>\n",
              "      <th>517</th>\n",
              "      <td>En familj är del av en släktingar .</td>\n",
              "      <td>0</td>\n",
              "    </tr>\n",
              "  </tbody>\n",
              "</table>\n",
              "<p>888 rows × 2 columns</p>\n",
              "</div>\n",
              "      <button class=\"colab-df-convert\" onclick=\"convertToInteractive('df-67d16c72-68bd-4bb5-985e-9eb239e833d6')\"\n",
              "              title=\"Convert this dataframe to an interactive table.\"\n",
              "              style=\"display:none;\">\n",
              "        \n",
              "  <svg xmlns=\"http://www.w3.org/2000/svg\" height=\"24px\"viewBox=\"0 0 24 24\"\n",
              "       width=\"24px\">\n",
              "    <path d=\"M0 0h24v24H0V0z\" fill=\"none\"/>\n",
              "    <path d=\"M18.56 5.44l.94 2.06.94-2.06 2.06-.94-2.06-.94-.94-2.06-.94 2.06-2.06.94zm-11 1L8.5 8.5l.94-2.06 2.06-.94-2.06-.94L8.5 2.5l-.94 2.06-2.06.94zm10 10l.94 2.06.94-2.06 2.06-.94-2.06-.94-.94-2.06-.94 2.06-2.06.94z\"/><path d=\"M17.41 7.96l-1.37-1.37c-.4-.4-.92-.59-1.43-.59-.52 0-1.04.2-1.43.59L10.3 9.45l-7.72 7.72c-.78.78-.78 2.05 0 2.83L4 21.41c.39.39.9.59 1.41.59.51 0 1.02-.2 1.41-.59l7.78-7.78 2.81-2.81c.8-.78.8-2.07 0-2.86zM5.41 20L4 18.59l7.72-7.72 1.47 1.35L5.41 20z\"/>\n",
              "  </svg>\n",
              "      </button>\n",
              "      \n",
              "  <style>\n",
              "    .colab-df-container {\n",
              "      display:flex;\n",
              "      flex-wrap:wrap;\n",
              "      gap: 12px;\n",
              "    }\n",
              "\n",
              "    .colab-df-convert {\n",
              "      background-color: #E8F0FE;\n",
              "      border: none;\n",
              "      border-radius: 50%;\n",
              "      cursor: pointer;\n",
              "      display: none;\n",
              "      fill: #1967D2;\n",
              "      height: 32px;\n",
              "      padding: 0 0 0 0;\n",
              "      width: 32px;\n",
              "    }\n",
              "\n",
              "    .colab-df-convert:hover {\n",
              "      background-color: #E2EBFA;\n",
              "      box-shadow: 0px 1px 2px rgba(60, 64, 67, 0.3), 0px 1px 3px 1px rgba(60, 64, 67, 0.15);\n",
              "      fill: #174EA6;\n",
              "    }\n",
              "\n",
              "    [theme=dark] .colab-df-convert {\n",
              "      background-color: #3B4455;\n",
              "      fill: #D2E3FC;\n",
              "    }\n",
              "\n",
              "    [theme=dark] .colab-df-convert:hover {\n",
              "      background-color: #434B5C;\n",
              "      box-shadow: 0px 1px 3px 1px rgba(0, 0, 0, 0.15);\n",
              "      filter: drop-shadow(0px 1px 2px rgba(0, 0, 0, 0.3));\n",
              "      fill: #FFFFFF;\n",
              "    }\n",
              "  </style>\n",
              "\n",
              "      <script>\n",
              "        const buttonEl =\n",
              "          document.querySelector('#df-67d16c72-68bd-4bb5-985e-9eb239e833d6 button.colab-df-convert');\n",
              "        buttonEl.style.display =\n",
              "          google.colab.kernel.accessAllowed ? 'block' : 'none';\n",
              "\n",
              "        async function convertToInteractive(key) {\n",
              "          const element = document.querySelector('#df-67d16c72-68bd-4bb5-985e-9eb239e833d6');\n",
              "          const dataTable =\n",
              "            await google.colab.kernel.invokeFunction('convertToInteractive',\n",
              "                                                     [key], {});\n",
              "          if (!dataTable) return;\n",
              "\n",
              "          const docLinkHtml = 'Like what you see? Visit the ' +\n",
              "            '<a target=\"_blank\" href=https://colab.research.google.com/notebooks/data_table.ipynb>data table notebook</a>'\n",
              "            + ' to learn more about interactive tables.';\n",
              "          element.innerHTML = '';\n",
              "          dataTable['output_type'] = 'display_data';\n",
              "          await google.colab.output.renderOutput(dataTable, element);\n",
              "          const docLink = document.createElement('div');\n",
              "          docLink.innerHTML = docLinkHtml;\n",
              "          element.appendChild(docLink);\n",
              "        }\n",
              "      </script>\n",
              "    </div>\n",
              "  </div>\n",
              "  "
            ]
          },
          "metadata": {},
          "execution_count": 7
        }
      ]
    },
    {
      "cell_type": "code",
      "execution_count": null,
      "metadata": {
        "id": "srh8jiuSU4lM",
        "cellView": "form"
      },
      "outputs": [],
      "source": [
        "#@title sentence model\n",
        "#!pip install -U sentence-transformers\n",
        "#from sentence_transformers import SentenceTransformer, models\n",
        "\n",
        "#model_dir = 'Peltarion/xlm-roberta-longformer-base-4096'\n",
        "#mod = \"KB/bert-base-swedish-cased\"\n",
        "#sen_xlmr = \"sentence-transformers/paraphrase-xlm-r-multilingual-v1\"\n",
        "\n",
        "#word_embedding_model = models.Transformer(mod, tokenizer_name_or_path= mod , max_seq_length=512)\n",
        "#pooling_model = models.Pooling(word_embedding_model.get_word_embedding_dimension())\n",
        "\n",
        "#model = SentenceTransformer(modules=[word_embedding_model, pooling_model])"
      ]
    },
    {
      "cell_type": "markdown",
      "metadata": {
        "id": "PWv9suyZftF9"
      },
      "source": [
        "#EDA"
      ]
    },
    {
      "cell_type": "code",
      "execution_count": null,
      "metadata": {
        "cellView": "form",
        "id": "mRqv7ZfGcZst"
      },
      "outputs": [],
      "source": [
        "#@title EDA\n",
        "!git clone https://github.com/mosh98/swe_aug.git\n",
        "!pip install -r /content/swe_aug/reqs.txt\n",
        "!wget https://www.ida.liu.se/divisions/hcs/nlplab/swectors/swectors-300dim.txt.bz2\n",
        "!bzip2 -dk /content/swectors-300dim.txt.bz2\n",
        "word_vec_path = '/content/swectors-300dim.txt'\n",
        "from swe_aug import EDA\n",
        "aug = EDA.Enkel_Data_Augmentation(word_vec_path)"
      ]
    },
    {
      "cell_type": "markdown",
      "metadata": {
        "id": "3HKlFNOlfkuq"
      },
      "source": [
        "# Fraction of Dataset\n"
      ]
    },
    {
      "cell_type": "code",
      "source": [
        "!pip install transformers"
      ],
      "metadata": {
        "id": "3dv5vc1nWDuC"
      },
      "execution_count": null,
      "outputs": []
    },
    {
      "cell_type": "code",
      "source": [
        "!pip install MultiEncoder==0.0.6"
      ],
      "metadata": {
        "id": "A9xi3sHkPLBv"
      },
      "execution_count": null,
      "outputs": []
    },
    {
      "cell_type": "code",
      "source": [
        "mod = \"KB/bert-base-swedish-cased\"\n",
        "from mle import multi_layer_encoder\n",
        "le = multi_layer_encoder.multi_layer_encoder(mod)"
      ],
      "metadata": {
        "id": "W_w2j7PNPOK1"
      },
      "execution_count": null,
      "outputs": []
    },
    {
      "cell_type": "code",
      "execution_count": null,
      "metadata": {
        "id": "-Sr5gZetf1mF",
        "cellView": "form"
      },
      "outputs": [],
      "source": [
        "#@title\n",
        "\n",
        "from sklearn.model_selection import train_test_split\n",
        "\n",
        "\n",
        "def frac(dataframe, fraction,label):\n",
        "    \"\"\"Returns fraction of data\"\"\"\n",
        "    if fraction == 1.0:\n",
        "      return dataframe\n",
        "      \n",
        "    y = dataframe[label]\n",
        "    train, test = train_test_split(dataframe,train_size=fraction,stratify = y)\n",
        "    \n",
        "    return train\n",
        "\n",
        "def encode_df(dataframe, mod=None,col = \"text\"):\n",
        "  encoded = []\n",
        "  for idx, item in dataframe.iterrows():\n",
        "        list_of_encoded_inputs, dect = le.multi_encode(item.Text)\n",
        "        encoded.append(list_of_encoded_inputs[1])\n",
        "        #encoded.append(model.encode(item[col])) \n",
        "\n",
        "  return encoded\n",
        "\n",
        "\n",
        "reports = [] #clf_report (Before Augment, After Augment)\n"
      ]
    },
    {
      "cell_type": "code",
      "execution_count": null,
      "metadata": {
        "id": "Vr9Yj46tqlCw",
        "colab": {
          "base_uri": "https://localhost:8080/"
        },
        "outputId": "4bfba69d-7dcc-40ba-c519-f6865f5e577e",
        "cellView": "form"
      },
      "outputs": [
        {
          "output_type": "stream",
          "name": "stderr",
          "text": [
            "Asking to truncate to max_length but no maximum length is provided and the model has no predefined maximum length. Default to no truncation.\n"
          ]
        }
      ],
      "source": [
        "#@title\n",
        "test_embed = []\n",
        "\n",
        "y_test = final_test_df.Label\n",
        "\n",
        "for idx, item in final_test_df.iterrows():\n",
        "      list_of_encoded_inputs, dect = le.multi_encode(item.Text)\n",
        "      test_embed.append(list_of_encoded_inputs[1])\n",
        "#test_embed.append(model.encode(item.Text))\n",
        "  "
      ]
    },
    {
      "cell_type": "code",
      "source": [
        "#@title\n",
        "#from swe_aug.Other_Techniques import Text_Cropping\n",
        "#frag = Text_Cropping.cropper(percent = 0.25)\n",
        "!pip install SpaceAugmentation\n",
        "from aug import Augmentation\n",
        "\n",
        "ag = Augmentation.Augmentation()"
      ],
      "metadata": {
        "id": "9kr3mxNL0fJY",
        "colab": {
          "base_uri": "https://localhost:8080/"
        },
        "cellView": "form",
        "outputId": "4b2152ee-af43-4b8d-cf7e-93e50ce80428"
      },
      "execution_count": null,
      "outputs": [
        {
          "output_type": "stream",
          "name": "stdout",
          "text": [
            "Collecting SpaceAugmentation\n",
            "  Downloading SpaceAugmentation-0.0.2-py3-none-any.whl (4.6 kB)\n",
            "Installing collected packages: SpaceAugmentation\n",
            "Successfully installed SpaceAugmentation-0.0.2\n"
          ]
        }
      ]
    },
    {
      "cell_type": "code",
      "source": [
        "#@title\n",
        "from swe_aug.Other_Techniques import Type_SR\n",
        "aug = Type_SR.type_DA(word_vec_path)"
      ],
      "metadata": {
        "id": "6x7wWhJTZ2xA",
        "colab": {
          "base_uri": "https://localhost:8080/"
        },
        "cellView": "form",
        "outputId": "b87dc599-5de1-4ca0-9b4b-c3931b98ece6"
      },
      "execution_count": null,
      "outputs": [
        {
          "output_type": "stream",
          "name": "stdout",
          "text": [
            "Already downloaded a model for the 'sv' language\n"
          ]
        },
        {
          "output_type": "stream",
          "name": "stderr",
          "text": [
            "[nltk_data] Downloading package stopwords to /root/nltk_data...\n",
            "[nltk_data]   Package stopwords is already up-to-date!\n"
          ]
        }
      ]
    },
    {
      "cell_type": "code",
      "execution_count": null,
      "metadata": {
        "id": "qU1sg9wXgtMf",
        "colab": {
          "base_uri": "https://localhost:8080/"
        },
        "outputId": "566b67af-04e0-4d0a-eebf-ed959ecd7c8d"
      },
      "outputs": [
        {
          "output_type": "stream",
          "name": "stdout",
          "text": [
            "______________________________________________\n",
            "Percentage 10\n",
            "Before Augmentation size:  (768, 2)\n",
            "Before Augmentation\n",
            "              precision    recall  f1-score   support\n",
            "\n",
            "           0       0.55      0.72      0.62       444\n",
            "           1       0.59      0.40      0.48       444\n",
            "\n",
            "    accuracy                           0.56       888\n",
            "   macro avg       0.57      0.56      0.55       888\n",
            "weighted avg       0.57      0.56      0.55       888\n",
            "\n",
            " \n",
            "After Augmentation size:  1536\n",
            "After Augmentation\n",
            "              precision    recall  f1-score   support\n",
            "\n",
            "           0       0.54      0.85      0.66       444\n",
            "           1       0.64      0.26      0.37       444\n",
            "\n",
            "    accuracy                           0.56       888\n",
            "   macro avg       0.59      0.56      0.51       888\n",
            "weighted avg       0.59      0.56      0.51       888\n",
            "\n",
            "______________________________________________\n",
            "______________________________________________\n",
            "Percentage 20\n",
            "Before Augmentation size:  (1536, 2)\n",
            "Before Augmentation\n",
            "              precision    recall  f1-score   support\n",
            "\n",
            "           0       0.53      0.92      0.67       444\n",
            "           1       0.68      0.18      0.28       444\n",
            "\n",
            "    accuracy                           0.55       888\n",
            "   macro avg       0.61      0.55      0.47       888\n",
            "weighted avg       0.61      0.55      0.47       888\n",
            "\n",
            " \n",
            "After Augmentation size:  3072\n",
            "After Augmentation\n",
            "              precision    recall  f1-score   support\n",
            "\n",
            "           0       0.60      0.54      0.57       444\n",
            "           1       0.58      0.63      0.60       444\n",
            "\n",
            "    accuracy                           0.59       888\n",
            "   macro avg       0.59      0.59      0.59       888\n",
            "weighted avg       0.59      0.59      0.59       888\n",
            "\n",
            "______________________________________________\n",
            "______________________________________________\n",
            "Percentage 30\n",
            "Before Augmentation size:  (2304, 2)\n",
            "Before Augmentation\n",
            "              precision    recall  f1-score   support\n",
            "\n",
            "           0       0.56      0.74      0.64       444\n",
            "           1       0.62      0.42      0.50       444\n",
            "\n",
            "    accuracy                           0.58       888\n",
            "   macro avg       0.59      0.58      0.57       888\n",
            "weighted avg       0.59      0.58      0.57       888\n",
            "\n",
            " \n",
            "After Augmentation size:  4608\n",
            "After Augmentation\n",
            "              precision    recall  f1-score   support\n",
            "\n",
            "           0       0.58      0.71      0.64       444\n",
            "           1       0.62      0.48      0.54       444\n",
            "\n",
            "    accuracy                           0.59       888\n",
            "   macro avg       0.60      0.59      0.59       888\n",
            "weighted avg       0.60      0.59      0.59       888\n",
            "\n",
            "______________________________________________\n",
            "______________________________________________\n",
            "Percentage 40\n",
            "Before Augmentation size:  (3072, 2)\n",
            "Before Augmentation\n",
            "              precision    recall  f1-score   support\n",
            "\n",
            "           0       0.54      0.84      0.66       444\n",
            "           1       0.64      0.28      0.39       444\n",
            "\n",
            "    accuracy                           0.56       888\n",
            "   macro avg       0.59      0.56      0.52       888\n",
            "weighted avg       0.59      0.56      0.52       888\n",
            "\n",
            " \n",
            "After Augmentation size:  6144\n",
            "After Augmentation\n",
            "              precision    recall  f1-score   support\n",
            "\n",
            "           0       0.54      0.85      0.66       444\n",
            "           1       0.66      0.28      0.40       444\n",
            "\n",
            "    accuracy                           0.57       888\n",
            "   macro avg       0.60      0.57      0.53       888\n",
            "weighted avg       0.60      0.57      0.53       888\n",
            "\n",
            "______________________________________________\n",
            "______________________________________________\n",
            "Percentage 50\n",
            "Before Augmentation size:  (3841, 2)\n",
            "Before Augmentation\n",
            "              precision    recall  f1-score   support\n",
            "\n",
            "           0       0.79      0.16      0.27       444\n",
            "           1       0.53      0.96      0.69       444\n",
            "\n",
            "    accuracy                           0.56       888\n",
            "   macro avg       0.66      0.56      0.48       888\n",
            "weighted avg       0.66      0.56      0.48       888\n",
            "\n",
            " \n",
            "After Augmentation size:  7681\n",
            "After Augmentation\n",
            "              precision    recall  f1-score   support\n",
            "\n",
            "           0       0.61      0.60      0.60       444\n",
            "           1       0.60      0.61      0.61       444\n",
            "\n",
            "    accuracy                           0.61       888\n",
            "   macro avg       0.61      0.61      0.61       888\n",
            "weighted avg       0.61      0.61      0.61       888\n",
            "\n",
            "______________________________________________\n",
            "______________________________________________\n",
            "Percentage 60\n",
            "Before Augmentation size:  (4609, 2)\n",
            "Before Augmentation\n",
            "              precision    recall  f1-score   support\n",
            "\n",
            "           0       0.64      0.48      0.54       444\n",
            "           1       0.58      0.73      0.65       444\n",
            "\n",
            "    accuracy                           0.60       888\n",
            "   macro avg       0.61      0.60      0.59       888\n",
            "weighted avg       0.61      0.60      0.59       888\n",
            "\n",
            " \n",
            "After Augmentation size:  9219\n",
            "After Augmentation\n",
            "              precision    recall  f1-score   support\n",
            "\n",
            "           0       0.60      0.66      0.63       444\n",
            "           1       0.62      0.56      0.59       444\n",
            "\n",
            "    accuracy                           0.61       888\n",
            "   macro avg       0.61      0.61      0.61       888\n",
            "weighted avg       0.61      0.61      0.61       888\n",
            "\n",
            "______________________________________________\n",
            "______________________________________________\n",
            "Percentage 70\n",
            "Before Augmentation size:  (5377, 2)\n",
            "Before Augmentation\n",
            "              precision    recall  f1-score   support\n",
            "\n",
            "           0       0.62      0.72      0.66       444\n",
            "           1       0.66      0.56      0.60       444\n",
            "\n",
            "    accuracy                           0.64       888\n",
            "   macro avg       0.64      0.64      0.63       888\n",
            "weighted avg       0.64      0.64      0.63       888\n",
            "\n",
            " \n",
            "After Augmentation size:  10755\n",
            "After Augmentation\n",
            "              precision    recall  f1-score   support\n",
            "\n",
            "           0       0.58      0.77      0.66       444\n",
            "           1       0.66      0.43      0.52       444\n",
            "\n",
            "    accuracy                           0.60       888\n",
            "   macro avg       0.62      0.60      0.59       888\n",
            "weighted avg       0.62      0.60      0.59       888\n",
            "\n",
            "______________________________________________\n",
            "______________________________________________\n",
            "Percentage 80\n",
            "Before Augmentation size:  (6145, 2)\n",
            "Before Augmentation\n",
            "              precision    recall  f1-score   support\n",
            "\n",
            "           0       0.62      0.65      0.63       444\n",
            "           1       0.63      0.59      0.61       444\n",
            "\n",
            "    accuracy                           0.62       888\n",
            "   macro avg       0.62      0.62      0.62       888\n",
            "weighted avg       0.62      0.62      0.62       888\n",
            "\n",
            " \n",
            "After Augmentation size:  12291\n",
            "After Augmentation\n",
            "              precision    recall  f1-score   support\n",
            "\n",
            "           0       0.70      0.39      0.50       444\n",
            "           1       0.58      0.83      0.68       444\n",
            "\n",
            "    accuracy                           0.61       888\n",
            "   macro avg       0.64      0.61      0.59       888\n",
            "weighted avg       0.64      0.61      0.59       888\n",
            "\n",
            "______________________________________________\n",
            "______________________________________________\n",
            "Percentage 90\n",
            "Before Augmentation size:  (6913, 2)\n",
            "Before Augmentation\n",
            "              precision    recall  f1-score   support\n",
            "\n",
            "           0       0.79      0.12      0.21       444\n",
            "           1       0.52      0.97      0.68       444\n",
            "\n",
            "    accuracy                           0.55       888\n",
            "   macro avg       0.66      0.55      0.45       888\n",
            "weighted avg       0.66      0.55      0.45       888\n",
            "\n",
            " \n",
            "After Augmentation size:  13827\n",
            "After Augmentation\n",
            "              precision    recall  f1-score   support\n",
            "\n",
            "           0       0.54      0.94      0.68       444\n",
            "           1       0.75      0.19      0.31       444\n",
            "\n",
            "    accuracy                           0.56       888\n",
            "   macro avg       0.64      0.56      0.49       888\n",
            "weighted avg       0.64      0.56      0.49       888\n",
            "\n",
            "______________________________________________\n",
            "______________________________________________\n",
            "Percentage 100\n",
            "Before Augmentation size:  (7682, 2)\n",
            "Before Augmentation\n",
            "              precision    recall  f1-score   support\n",
            "\n",
            "           0       0.64      0.64      0.64       444\n",
            "           1       0.64      0.64      0.64       444\n",
            "\n",
            "    accuracy                           0.64       888\n",
            "   macro avg       0.64      0.64      0.64       888\n",
            "weighted avg       0.64      0.64      0.64       888\n",
            "\n",
            " \n",
            "After Augmentation size:  15364\n",
            "After Augmentation\n",
            "              precision    recall  f1-score   support\n",
            "\n",
            "           0       0.57      0.88      0.69       444\n",
            "           1       0.73      0.33      0.45       444\n",
            "\n",
            "    accuracy                           0.60       888\n",
            "   macro avg       0.65      0.60      0.57       888\n",
            "weighted avg       0.65      0.60      0.57       888\n",
            "\n",
            "______________________________________________\n"
          ]
        }
      ],
      "source": [
        "#@title Training Loop\n",
        "from sklearn.linear_model import SGDClassifier\n",
        "\n",
        "split_percentage = [10, 20, 30, 40, 50, 60, 70, 80, 90, 100]\n",
        "\n",
        "label = \"Label\"\n",
        "\n",
        "for percentage in split_percentage:\n",
        "    print(\"______________________________________________\")\n",
        "    \n",
        "    print(\"Percentage\",percentage)\n",
        "    \n",
        "    temp_train_df = frac(final_train_df, percentage/100,label)\n",
        "    y_train = temp_train_df.Label\n",
        "    \n",
        "    print(\"Before Augmentation size: \",temp_train_df.shape)\n",
        "    \n",
        "    train_embed = encode_df( temp_train_df,  col=\"Text\")\n",
        "\n",
        "    logreg = SGDClassifier(max_iter=3000,n_jobs=-1)\n",
        "    logreg.fit(train_embed, y_train)\n",
        "    \n",
        "    y_pred = logreg.predict(test_embed)\n",
        "    \n",
        "    r_1 = classification_report(y_test, y_pred)\n",
        "    print(\"Before Augmentation\")\n",
        "    print(r_1)\n",
        "    print(\" \")\n",
        "\n",
        "    # picking out bad samples\n",
        "    incorrect_df = temp_train_df[temp_train_df['Label'] == 0]\n",
        "\n",
        "    #Augmentation\n",
        "\n",
        "    aug_samples = []\n",
        "    for idx, item in incorrect_df.iterrows():\n",
        "      txt = item.Text\n",
        "      lab = item.Label\n",
        "      list_of_augs = aug.type_synonym_sr(txt, token_type = \"NOUN\", n = 2)\n",
        "      \n",
        "      for element in list_of_augs:\n",
        "          aug_samples.append({\"Text\":' '.join(element),\"Label\":lab})\n",
        "\n",
        "    \n",
        "    new_aug_samples = pd.DataFrame(aug_samples)\n",
        "    \n",
        "\n",
        "    \n",
        "    \n",
        "    \n",
        "    new_df = pd.concat([temp_train_df,new_aug_samples],ignore_index=True)\n",
        "    \n",
        "    print(\"After Augmentation size: \",new_df.shape[0])\n",
        "\n",
        "\n",
        "    #augmented train test\n",
        "\n",
        "    #encode\n",
        "    train_embed = encode_df( new_df,  col=\"Text\")\n",
        "    y_train = new_df.Label\n",
        "    \n",
        "    logreg_ = SGDClassifier(max_iter=3000, n_jobs=-1)\n",
        "    logreg_.fit(train_embed, y_train)\n",
        "\n",
        "    y_pred = logreg_.predict(test_embed)\n",
        "\n",
        "\n",
        "    r_2 = classification_report(y_test, y_pred)\n",
        "    print(\"After Augmentation\")\n",
        "    print(r_2)\n",
        "\n",
        "    #save the reports\n",
        "    reports.append((percentage, r_1,r_2))\n",
        "\n",
        "\n",
        "\n",
        "    print(\"______________________________________________\")\n",
        "\n",
        "\n",
        "\n",
        "\n",
        "\n",
        "\n"
      ]
    },
    {
      "cell_type": "code",
      "source": [
        "\n",
        "!pip install -U sentence-transformers\n",
        "from sentence_transformers import SentenceTransformer, models\n",
        "\n",
        "#model_dir = 'Peltarion/xlm-roberta-longformer-base-4096'\n",
        "#mod = \"KB/bert-base-swedish-cased\"\n",
        "sen_xlmr = \"sentence-transformers/paraphrase-xlm-r-multilingual-v1\"\n",
        "\n",
        "word_embedding_model = models.Transformer(sen_xlmr, tokenizer_name_or_path= sen_xlmr , max_seq_length=512)\n",
        "pooling_model = models.Pooling(word_embedding_model.get_word_embedding_dimension())\n",
        "\n",
        "model = SentenceTransformer(modules=[word_embedding_model, pooling_model])"
      ],
      "metadata": {
        "id": "9akuWLUTxQOw"
      },
      "execution_count": null,
      "outputs": []
    },
    {
      "cell_type": "code",
      "source": [
        "    # picking out bad samples\n",
        "incorrect_df = final_train_df[final_train_df['Label'] == 0]\n",
        "\n",
        "    #Augmentation\n",
        "\n",
        "aug_samples = []\n",
        "original_augmented = [] #every element : orginal_text, (Tuple of augmented sentences)\n",
        "for idx, item in incorrect_df.iterrows():\n",
        "      txt = item.Text\n",
        "      lab = item.Label\n",
        "      list_of_augs = aug.type_synonym_sr(txt, token_type = \"NOUN\", n = 2)\n",
        "      \n",
        "      temp_list = []\n",
        "      for element in list_of_augs:\n",
        "            aug_samples.append({\"Text\":' '.join(element),\"Label\":lab})\n",
        "            temp_list.append(' '.join(element))\n",
        "      \n",
        "      original_augmented.append((txt,temp_list))\n",
        "\n",
        "    \n",
        "\n",
        "new_aug_samples = pd.DataFrame(aug_samples)"
      ],
      "metadata": {
        "id": "gwsA7fUxc-D1"
      },
      "execution_count": null,
      "outputs": []
    },
    {
      "cell_type": "code",
      "source": [
        "from sentence_transformers import SentenceTransformer, util\n",
        "\n",
        "\n",
        "def checkSimilarity(reference_string, list_of_strings, model):\n",
        "    \"\"\"\n",
        "    This function takes a reference string and a list of strings and returns a list of strings that are similar to the reference string.\n",
        "\n",
        "    :param reference_string:\n",
        "    :param list_of_strings:\n",
        "    :param model: sentence transformer model\n",
        "    :return:\n",
        "    \"\"\"\n",
        "    #1. Encode using Sentence Transformer\n",
        "    #2. Calculate cosine similarity\n",
        "    #3. Append the similirty value to the list\n",
        "    # caclulcate percentage of elements below 0.9\n",
        "    # return the list, and the percentage of elements below 0.9\n",
        "\n",
        "    reference_encoded = model.encode(reference_string,convert_to_numpy=True) #encoded reference string\n",
        "    list_of_cosine_similarity = []\n",
        "    for string in list_of_strings:\n",
        "        #print(string)\n",
        "        encoded_string = model.encode(string,convert_to_numpy=True)\n",
        "\n",
        "        #find coside similairity of enocded String and reference string\n",
        "        similarity = util.cos_sim(reference_encoded, encoded_string)\n",
        "        list_of_cosine_similarity.append(similarity.item())\n",
        "    #print(list_of_cosine_similarity)\n",
        "    #sum(i > 5 for i in j)\n",
        "    percentage_of_elements_below_0_9 = sum(i < 0.9 for i in list_of_cosine_similarity) / len(list_of_cosine_similarity)\n",
        "\n",
        "    return sum(i < 0.95 for i in list_of_cosine_similarity),percentage_of_elements_below_0_9"
      ],
      "metadata": {
        "id": "bRQKDOMPxJ7Y"
      },
      "execution_count": null,
      "outputs": []
    },
    {
      "cell_type": "code",
      "source": [
        "low_semantic_sentences = []\n",
        "for item in original_augmented:\n",
        "  num, percentage = checkSimilarity(item[0],item[1],model)\n",
        "  low_semantic_sentences.append(num)"
      ],
      "metadata": {
        "id": "fCnYlgH62Cq9"
      },
      "execution_count": null,
      "outputs": []
    },
    {
      "cell_type": "code",
      "source": [
        "print(\"Original Sentences:\",len(original_augmented))\n",
        "print(\"Num of Augmented Sentences:\",len(original_augmented)*2)\n"
      ],
      "metadata": {
        "colab": {
          "base_uri": "https://localhost:8080/"
        },
        "id": "lhUhqsjL4Ufe",
        "outputId": "2c2722b1-22d4-4484-c209-95d873d2daf9"
      },
      "execution_count": null,
      "outputs": [
        {
          "output_type": "stream",
          "name": "stdout",
          "text": [
            "Original Sentences: 3841\n",
            "Num of Augmented Sentences: 7682\n"
          ]
        }
      ]
    },
    {
      "cell_type": "code",
      "source": [
        "print(\"Num of Bad Augmented Sentences:\",sum(low_semantic_sentences))\n"
      ],
      "metadata": {
        "colab": {
          "base_uri": "https://localhost:8080/"
        },
        "id": "mzn0rs1z5yjZ",
        "outputId": "9cafca69-4b6f-47bc-d2e2-5aca5f33e8b2"
      },
      "execution_count": null,
      "outputs": [
        {
          "output_type": "stream",
          "name": "stdout",
          "text": [
            "Num of Bad Augmented Sentences: 2782\n"
          ]
        }
      ]
    },
    {
      "cell_type": "code",
      "source": [
        "num_of_aug_samples = len(original_augmented)*2\n",
        "print(\"Percentage of Bad Augmented Sentences:\",(sum(low_semantic_sentences)/num_of_aug_samples)*100)"
      ],
      "metadata": {
        "colab": {
          "base_uri": "https://localhost:8080/"
        },
        "id": "TlioqFao68Ir",
        "outputId": "57ef47c4-8b59-4b71-c6a8-5ecb6d35ed3f"
      },
      "execution_count": null,
      "outputs": [
        {
          "output_type": "stream",
          "name": "stdout",
          "text": [
            "Percentage of Bad Augmented Sentences: 36.21452746680552\n"
          ]
        }
      ]
    },
    {
      "cell_type": "code",
      "source": [],
      "metadata": {
        "id": "K80bYbpg7aha"
      },
      "execution_count": null,
      "outputs": []
    }
  ],
  "metadata": {
    "accelerator": "GPU",
    "colab": {
      "provenance": [],
      "collapsed_sections": [],
      "mount_file_id": "1uipmJSZ1bfmh-ovt5KIQ0X-tqFJ-rgNq",
      "authorship_tag": "ABX9TyMR+5rF1P4fbAqNkJG2Gnot"
    },
    "kernelspec": {
      "display_name": "Python 3",
      "name": "python3"
    },
    "language_info": {
      "name": "python"
    }
  },
  "nbformat": 4,
  "nbformat_minor": 0
}